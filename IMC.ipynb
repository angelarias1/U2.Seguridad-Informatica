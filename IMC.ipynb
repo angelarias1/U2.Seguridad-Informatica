{
 "cells": [
  {
   "cell_type": "code",
   "execution_count": 4,
   "id": "faf0a0d4",
   "metadata": {},
   "outputs": [
    {
     "name": "stdout",
     "output_type": "stream",
     "text": [
      "miguel, estás en un rango de peso normal:Tu IMC es de: 22.5\n"
     ]
    }
   ],
   "source": [
    "datos = {\n",
    "    \"nombre\": \"miguel\",\n",
    "    \"peso\": 65,\n",
    "    \"altura\": 1.70  \n",
    "}\n",
    "\n",
    "def imc(peso, altura, nombre):\n",
    "    imc_p = peso / (altura**2)  \n",
    "    \n",
    "    if imc_p < 18.5:\n",
    "        print(f\"{nombre}, estás bajo de peso:Tu IMC es de: IMC {round(imc_p, 1)}\")\n",
    "    elif imc_p >= 18.5 and imc_p <= 24.9:\n",
    "        print(f\"{nombre}, estás en un rango de peso normal:Tu IMC es de: {round(imc_p, 1)}\")\n",
    "    elif imc_p >= 25.0 and imc_p <= 29.9:\n",
    "        print(f\"{nombre}, estás en sobrepeso:Tu IMC es de: IMC {round(imc_p, 1)}\")\n",
    "    else:\n",
    "        print(f\"{nombre}, tienes obesidad:Tu IMC es de: IMC {round(imc_p, 1)}\")\n",
    "\n",
    "peso = datos[\"peso\"]\n",
    "altura = datos[\"altura\"]\n",
    "nombre = datos[\"nombre\"]\n",
    "\n",
    "imc(peso, altura, nombre)"
   ]
  }
 ],
 "metadata": {
  "kernelspec": {
   "display_name": "Python 3 (ipykernel)",
   "language": "python",
   "name": "python3"
  },
  "language_info": {
   "codemirror_mode": {
    "name": "ipython",
    "version": 3
   },
   "file_extension": ".py",
   "mimetype": "text/x-python",
   "name": "python",
   "nbconvert_exporter": "python",
   "pygments_lexer": "ipython3",
   "version": "3.11.4"
  }
 },
 "nbformat": 4,
 "nbformat_minor": 5
}
