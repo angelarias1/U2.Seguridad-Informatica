{
 "cells": [
  {
   "cell_type": "code",
   "execution_count": 1,
   "id": "fc32191c",
   "metadata": {},
   "outputs": [
    {
     "name": "stdout",
     "output_type": "stream",
     "text": [
      "Ingrese el nombre del producto: lapiz\n",
      "Ingrese el precio del producto: 2\n",
      "Ingrese la cantidad en stock: 20\n",
      "Ingrese la cantidad vendida: 3\n",
      "Ingrese la cantidad con la que va a pagar: 50\n",
      "Pago con: $50.00\n",
      "Cambio de: $44.00\n"
     ]
    }
   ],
   "source": [
    "# En main.py\n",
    "\n",
    "from paquete import modelo1, modelo2, modelo3\n",
    "\n",
    "# Registra un producto\n",
    "producto_info = modelo1.registrar_producto()\n",
    "\n",
    "# Realiza una venta del producto\n",
    "cantidad_vendida = int(input(\"Ingrese la cantidad vendida: \"))\n",
    "monto_total = modelo2.realizar_venta(producto_info, cantidad_vendida)\n",
    "\n",
    "# Pide la cantidad con la que se va a pagar\n",
    "cantidad_pago = float(input(\"Ingrese la cantidad con la que va a pagar: \"))\n",
    "\n",
    "# Verifica si el cliente puede pagar\n",
    "if cantidad_pago < monto_total:\n",
    "    print(\"El pago no cubre el monto total de la venta. No se realizó la venta.\")\n",
    "else:\n",
    "    # Registra la venta\n",
    "    venta_info = {\"producto\": producto_info[\"producto\"], \"cantidad\": cantidad_vendida, \"monto\": monto_total}\n",
    "    \n",
    "    # Calcula el cambio usando la cantidad total de la venta\n",
    "    cambio = cantidad_pago - monto_total\n",
    "\n",
    "    # Muestra la cantidad con la que se pagó y el cambio\n",
    "    print(f\"Pago con: ${cantidad_pago:.2f}\")  # Utiliza cantidad_pago en lugar de monto_total\n",
    "    print(f\"Cambio de: ${cambio:.2f}\")\n",
    "\n",
    "    # Registra la venta aquí después de la verificación de pago\n",
    "    modelo3.registrar_venta(venta_info)\n"
   ]
  }
 ],
 "metadata": {
  "kernelspec": {
   "display_name": "Python 3 (ipykernel)",
   "language": "python",
   "name": "python3"
  },
  "language_info": {
   "codemirror_mode": {
    "name": "ipython",
    "version": 3
   },
   "file_extension": ".py",
   "mimetype": "text/x-python",
   "name": "python",
   "nbconvert_exporter": "python",
   "pygments_lexer": "ipython3",
   "version": "3.11.4"
  }
 },
 "nbformat": 4,
 "nbformat_minor": 5
}
