{
 "cells": [
  {
   "cell_type": "code",
   "execution_count": 18,
   "id": "ae325be6",
   "metadata": {},
   "outputs": [
    {
     "name": "stdout",
     "output_type": "stream",
     "text": [
      "Defaulting to user installation because normal site-packages is not writeable\n",
      "Requirement already satisfied: python-docx in c:\\users\\angel\\appdata\\roaming\\python\\python311\\site-packages (1.1.0)\n",
      "Requirement already satisfied: lxml>=3.1.0 in c:\\programdata\\anaconda3\\lib\\site-packages (from python-docx) (4.9.2)\n",
      "Requirement already satisfied: typing-extensions in c:\\programdata\\anaconda3\\lib\\site-packages (from python-docx) (4.7.1)\n"
     ]
    }
   ],
   "source": [
    "!pip install python-docx"
   ]
  },
  {
   "cell_type": "code",
   "execution_count": 1,
   "id": "fe9ed54a",
   "metadata": {},
   "outputs": [
    {
     "name": "stdout",
     "output_type": "stream",
     "text": [
      "Baja California: El Vallecito, Ejido Ignacio Zaragoza.Baja California Sur: Sierra de San Francisco.Campeche: Balamkú, Becán, Calakmul, Chunhuhub, Dzibilnocac, Edzná, El Tigre, Hochob, Hormiguero, Kankí, Santa Rosa Xtampak, Tabasqueño, Tohcok, Xcalumkín, Xpuhil.Chiapas: Bonampak, Chiapa de Corzo, Chinkultic, Iglesia Vieja, Izapa, Lagartero, Tenam Puente, Palenque, Toniná, Yaxchilán.Chihuahua: Cuarenta Casas, Cueva Grande, Cueva de la Olla, Huapoca, Paquimé.Colima: El Chanal, La Campana.Distrito Federal: Cuicuilco, Templo Mayor, Tlatelolco, Cerro de la Estrella.Durango: La Ferrería.Estado de México: Acozac o Ixtapaluca, Calixtlahuaca, Chimalhuacan, El Conde, Huamango, Huexotla, Los Melones, Los Reyes la Paz, Malinalco, San Miguel Ixtapan, Tenayuca I y II, Teotenango, Teotihuacan, Tetzcotzinco, Tlapacoya, Tocuila, Santa Cecilia Acatitlán, Ocoyoacac.Guanajuato: Plazuelas, Cañada de la Virgen, Peralta, El Cóporo.Guerrero: Cuetlajuchitlán o Los Querende, Soledad de Maciel, Huamuxtitlán, Ixcateopan, La Organera Xochipala, La Sabana, Los Tepoltzis, Palma Sola, Tehuacalco, Teopantecuanitlán.Hidalgo: Huapalcalco, Tula, Tepeapulco o Xihuingo.Jalisco: Ixtépete, Teuchitlán o Guachimontones, El Grillo.Michoacán: San Felipe los Alzati, Huandacareo La Nopalera, Tres Cerritos, Tzintzuntzan, Ihuatzio, Tingambato.Morelos: Olintepec, Chalcatzingo, Coatetelco, Las Pilas, Teopanzolco, Tepozteco, Xochicalco, Yautepec.Nayarit: Ixtlán del Río o Los Toriles.Nuevo León: Boca de Potrerillos.Oaxaca: Huijazoo, Atzompa, Bocana del Río Copalita, Cerro de la Campana, Dainzú, Guiengola, Huamelulpan, Lambityeco, Mitla, Monte Albán, San Juan Yucuita, Yagul, Zaachila.Puebla: Tepapayeca, Cantona, Cholula, San Cristóbal Tepatlaxco, Tepexi el Viejo, Yohualinchan.Querétaro: El Cerrito, Ranas, Tancama, Toluquilla.Quintana Roo: Calica, Chakanbakán, Banco Chinchorro, Laguna de Mandinga, Cobá, Caracol-Punta Sur, Chacchoben, Dzibanché - Kinichná, El Meco, El Rey, Ichkabal, Kohunlich, Muyil, Oxtankah, Playa del Carmen, San Gervasio, San Miguelito, Tulum, Xelhá, Xcaret.San Luis Potosí: Tamohi o El Consuelo, Tamtoc.Sinaloa: Las LabradasSonora: Cerro de Trincheras.Tabasco: Comalcalco, La Venta, Malpasito, Moral-Reforma, Pomoná.Tamaulipas: Balcón de Montezuma , El Sabinito, Las Flores.Tlaxcala: Cacaxtla, Ocotelulco, Tizatlán, Tecoaque, Xochitécatl.Veracruz: Castillo de Teayo, Cempoala, Cuajilote, Cuyuxquihui, El Tajín, Las Higueras, Quiahuiztlán, San Lorenzo Tenochtitlan, Tres Zapotes, Vega de la Peña.Yucatán: Acanceh, Aké, Balamcanché, Chacmultún, Chichén Itzá, Dzibilchaltún, Ek  Balam, Izamal, Kabah, Labná, Loltún, Mayapán, Oxkintok, Sayil, Uxmal, Xlapak.Zacatecas: Alta Vista o Chalchihuites, Las Ventanas, La Quemada.\n"
     ]
    }
   ],
   "source": [
    "from docx import Document\n",
    "\n",
    "doc = Document(\"Doc.docx\")\n",
    "contenido = \"\"\n",
    "for paragraph in doc.paragraphs:\n",
    "    contenido += paragraph.text\n",
    "\n",
    "print(contenido)"
   ]
  },
  {
   "cell_type": "code",
   "execution_count": 2,
   "id": "2e2512a7",
   "metadata": {},
   "outputs": [
    {
     "name": "stdout",
     "output_type": "stream",
     "text": [
      "Defaulting to user installation because normal site-packages is not writeable\n",
      "Requirement already satisfied: pandas in c:\\programdata\\anaconda3\\lib\\site-packages (1.5.3)\n",
      "Requirement already satisfied: python-dateutil>=2.8.1 in c:\\programdata\\anaconda3\\lib\\site-packages (from pandas) (2.8.2)\n",
      "Requirement already satisfied: pytz>=2020.1 in c:\\programdata\\anaconda3\\lib\\site-packages (from pandas) (2022.7)\n",
      "Requirement already satisfied: numpy>=1.21.0 in c:\\programdata\\anaconda3\\lib\\site-packages (from pandas) (1.24.3)\n",
      "Requirement already satisfied: six>=1.5 in c:\\programdata\\anaconda3\\lib\\site-packages (from python-dateutil>=2.8.1->pandas) (1.16.0)\n"
     ]
    }
   ],
   "source": [
    "!pip install pandas"
   ]
  },
  {
   "cell_type": "code",
   "execution_count": 4,
   "id": "385471ef",
   "metadata": {},
   "outputs": [
    {
     "name": "stdout",
     "output_type": "stream",
     "text": [
      "Empty DataFrame\n",
      "Columns: [1, 2, 3, 33, 3.1, 3.2, 3.3, 3.4]\n",
      "Index: []\n"
     ]
    }
   ],
   "source": [
    "import pandas as pd\n",
    "\n",
    "archivo_excel = 'Libro.xlsx'\n",
    "\n",
    "df = pd.read_excel(archivo_excel)\n",
    "\n",
    "df\n",
    "\n",
    "print(df);\n"
   ]
  },
  {
   "cell_type": "code",
   "execution_count": 15,
   "id": "7bf33e8f",
   "metadata": {},
   "outputs": [
    {
     "name": "stdout",
     "output_type": "stream",
     "text": [
      "Defaulting to user installation because normal site-packages is not writeable\n",
      "Requirement already satisfied: PyPDF2 in c:\\users\\angel\\appdata\\roaming\\python\\python311\\site-packages (3.0.1)\n"
     ]
    }
   ],
   "source": [
    "!pip install PyPDF2\n"
   ]
  },
  {
   "cell_type": "code",
   "execution_count": 16,
   "id": "da486e5a",
   "metadata": {},
   "outputs": [
    {
     "name": "stdout",
     "output_type": "stream",
     "text": [
      "En\n",
      "un\n",
      "tr anquilo\n",
      "pueblo\n",
      "encla v ado\n",
      "entr e\n",
      "las\n",
      "montañas,\n",
      "la\n",
      "vida\n",
      "tr anscurría\n",
      "apacible\n",
      "y\n",
      "sin\n",
      "sobr esalt os.\n",
      "Los\n",
      "habitantes\n",
      "de\n",
      "este\n",
      "rincón\n",
      "del\n",
      "mundo\n",
      "disfrutaban\n",
      "de\n",
      "la\n",
      "belleza\n",
      "de\n",
      "la\n",
      "natur aleza\n",
      "que\n",
      "los\n",
      "r odeaba\n",
      "y\n",
      "de\n",
      "la\n",
      "simplicidad\n",
      "de\n",
      "su\n",
      "estilo\n",
      "de\n",
      "vida.\n",
      "Cada\n",
      "día,\n",
      "el\n",
      "sol\n",
      "se\n",
      "alzaba\n",
      "sobr e\n",
      "las\n",
      "colinas,\n",
      "pintando\n",
      "el\n",
      "cielo\n",
      "de\n",
      "t onos\n",
      "cálidos\n",
      "y\n",
      "desper tando\n",
      "a\n",
      "la\n",
      "comunidad\n",
      "con\n",
      "su\n",
      "luz\n",
      "dor ada.\n",
      "En\n",
      "el\n",
      "centr o\n",
      "del\n",
      "pueblo\n",
      "se\n",
      "encontr aba\n",
      "una\n",
      "pequeña\n",
      "plaza,\n",
      "donde\n",
      "los\n",
      "v ecinos\n",
      "solían\n",
      "r eunirse\n",
      "par a\n",
      "charlar ,\n",
      "compar tir\n",
      "anécdotas\n",
      "y\n",
      "disfrutar\n",
      "de\n",
      "la\n",
      "compañía\n",
      "de\n",
      "los\n",
      "demás.\n",
      "En\n",
      "ese\n",
      "lugar ,\n",
      "un\n",
      "antiguo\n",
      "r oble\n",
      "se\n",
      "alzaba\n",
      "majestuoso,\n",
      "pr opor cionando\n",
      "sombr a\n",
      "en\n",
      "los\n",
      "días\n",
      "calur osos\n",
      "y\n",
      "un\n",
      "r efugio\n",
      "par a\n",
      "las\n",
      "a v es\n",
      "que\n",
      "cantaban\n",
      "melodías\n",
      "que\n",
      "llenaban\n",
      "el\n",
      "air e\n",
      "de\n",
      "alegría.\n"
     ]
    }
   ],
   "source": [
    "import PyPDF2\n",
    "\n",
    "archivo_pdf = 'Pdf.pdf'\n",
    "\n",
    "pdf_file = open(archivo_pdf, 'rb')\n",
    "\n",
    "pdf_reader = PyPDF2.PdfReader(pdf_file)\n",
    "\n",
    "contenido = \"\"\n",
    "for page_num in range(len(pdf_reader.pages)):\n",
    "    page = pdf_reader.pages[page_num]\n",
    "    contenido += page.extract_text()\n",
    "\n",
    "pdf_file.close()\n",
    "\n",
    "print(contenido)\n",
    "\n"
   ]
  }
 ],
 "metadata": {
  "kernelspec": {
   "display_name": "Python 3 (ipykernel)",
   "language": "python",
   "name": "python3"
  },
  "language_info": {
   "codemirror_mode": {
    "name": "ipython",
    "version": 3
   },
   "file_extension": ".py",
   "mimetype": "text/x-python",
   "name": "python",
   "nbconvert_exporter": "python",
   "pygments_lexer": "ipython3",
   "version": "3.11.4"
  }
 },
 "nbformat": 4,
 "nbformat_minor": 5
}
