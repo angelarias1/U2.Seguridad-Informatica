{
 "cells": [
  {
   "cell_type": "code",
   "execution_count": 14,
   "id": "3e6659c9",
   "metadata": {},
   "outputs": [
    {
     "name": "stdout",
     "output_type": "stream",
     "text": [
      "ingresa el numero del rango con el que empezara tu rango: 1\n",
      "ingresa el numero del rango con el que  terminara tu rango: 3\n",
      "ingresa el numero de la tabla con la que empezara tu tabla: 1\n",
      "ingresa el numero de la tabla con la que terminara tabla: 5\n",
      " 1 * 1 = 1\n",
      " 1 * 2 = 2\n",
      " 1 * 3 = 3\n",
      " 1 * 4 = 4\n",
      " 1 * 5 = 5\n",
      "\n",
      " 2 * 1 = 2\n",
      " 2 * 2 = 4\n",
      " 2 * 3 = 6\n",
      " 2 * 4 = 8\n",
      " 2 * 5 = 10\n",
      "\n",
      " 3 * 1 = 3\n",
      " 3 * 2 = 6\n",
      " 3 * 3 = 9\n",
      " 3 * 4 = 12\n",
      " 3 * 5 = 15\n",
      "\n"
     ]
    }
   ],
   "source": [
    "ir = int(input(\"ingresa el numero del rango con el que empezara tu rango: \"))\n",
    "fr = int(input(\"ingresa el numero del rango con el que  terminara tu rango: \"))\n",
    "it = int(input(\"ingresa el numero de la tabla con la que empezara tu tabla: \"))\n",
    "ft = int(input(\"ingresa el numero de la tabla con la que terminara tabla: \"))\n",
    "\n",
    "for i in range(ir, fr + 1):\n",
    "    for a in range(it, ft+ 1):\n",
    "        r = (i * a)\n",
    "        print(f\" {i} * {a} = {r}\")\n",
    "    print()"
   ]
  },
  {
   "cell_type": "code",
   "execution_count": null,
   "id": "f846683a",
   "metadata": {},
   "outputs": [],
   "source": [
    "\n"
   ]
  },
  {
   "cell_type": "code",
   "execution_count": null,
   "id": "379e3091",
   "metadata": {},
   "outputs": [],
   "source": [
    "\n"
   ]
  }
 ],
 "metadata": {
  "kernelspec": {
   "display_name": "Python 3 (ipykernel)",
   "language": "python",
   "name": "python3"
  },
  "language_info": {
   "codemirror_mode": {
    "name": "ipython",
    "version": 3
   },
   "file_extension": ".py",
   "mimetype": "text/x-python",
   "name": "python",
   "nbconvert_exporter": "python",
   "pygments_lexer": "ipython3",
   "version": "3.11.4"
  }
 },
 "nbformat": 4,
 "nbformat_minor": 5
}
